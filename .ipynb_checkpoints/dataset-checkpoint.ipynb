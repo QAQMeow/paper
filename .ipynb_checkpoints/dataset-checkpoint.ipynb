{
 "cells": [
  {
   "cell_type": "code",
   "execution_count": 38,
   "metadata": {},
   "outputs": [
    {
     "data": {
      "text/plain": [
       "<class 'netCDF4._netCDF4._Variable'>\n",
       "float32 air('time', 'level', 'lat', 'lon')\n",
       "    long_name: 4xDaily Air temperature\n",
       "    units: degK\n",
       "    precision: 2\n",
       "    least_significant_digit: 1\n",
       "    GRIB_id: 11\n",
       "    GRIB_name: TMP\n",
       "    var_desc: Air temperature\n",
       "    level_desc: Multiple levels\n",
       "    statistic: Individual Obs\n",
       "    parent_stat: Other\n",
       "    missing_value: -9.96921e+36\n",
       "    actual_range: [158.  326.5]\n",
       "    valid_range: [150. 350.]\n",
       "    dataset: NCEP Reanalysis\n",
       "unlimited dimensions = ('time',)\n",
       "current size = (71588, 17, 73, 144)"
      ]
     },
     "execution_count": 38,
     "metadata": {},
     "output_type": "execute_result"
    }
   ],
   "source": [
    "import numpy as np\n",
    "import matplotlib.pyplot as plt\n",
    "import netCDF4 as nc\n",
    "from datetime import datetime, timedelta\n",
    "from netCDF4 import num2date, date2num\n",
    "import pandas as pd\n",
    "import csv\n",
    "TyphoonTrack = pd.read_csv('F://Jupyter/Data/1970_2018TyphoonTrack.csv')\n",
    "TData = nc.MFDataset(\"F://Jupyter/Data/Temperature/*nc\")\n",
    "UData = nc.MFDataset(\"F://Jupyter/Data/u_wind/*nc\")\n",
    "VData = nc.MFDataset(\"F://Jupyter/Data/v_wind/*nc\")\n",
    "WData = nc.MFDataset(\"F://Jupyter/Data/w_wind/*nc\")\n",
    "PData = nc.MFDataset(\"F://Jupyter/Data/pre/*nc\")\n",
    "\n",
    "Temperature = TData.variables['air']\n",
    "Time = TData.variables['time']\n",
    "Lon = TData.variables['lon']\n",
    "Lat = TData.variables['lat']\n",
    "Lev = TData.variables['level']\n",
    "Uwind = UData.variables['uwnd']\n",
    "Vwind = VData.variables['vwnd']\n",
    "Wwind = WData.variables['omega']\n",
    "Pre = PData.variables['hgt']\n",
    "\n",
    "def FindIndex(A,N):\n",
    "    for i in range(len(A[:])):\n",
    "        if A[i] == N:\n",
    "            return i\n",
    "            break\n",
    "    index = FindIndex(Time[:],T1)\n",
    "    return index\n",
    "TyphoonTrack\n",
    "Lev\n",
    "Temperature\n"
   ]
  },
  {
   "cell_type": "code",
   "execution_count": 14,
   "metadata": {},
   "outputs": [
    {
     "data": {
      "text/plain": [
       "<class 'netCDF4._netCDF4._Variable'>\n",
       "float32 uwnd('time', 'level', 'lat', 'lon')\n",
       "    long_name: 4xDaily U-wind\n",
       "    units: m/s\n",
       "    precision: 2\n",
       "    least_significant_digit: 1\n",
       "    GRIB_id: 33\n",
       "    GRIB_name: UGRD\n",
       "    var_desc: u-wind\n",
       "    level_desc: Multiple levels\n",
       "    statistic: Individual Obs\n",
       "    parent_stat: Other\n",
       "    missing_value: -9.96921e+36\n",
       "    actual_range: [-90.      144.40001]\n",
       "    valid_range: [-125.  160.]\n",
       "    dataset: NCEP Reanalysis\n",
       "unlimited dimensions = ('time',)\n",
       "current size = (71588, 17, 73, 144)"
      ]
     },
     "execution_count": 14,
     "metadata": {},
     "output_type": "execute_result"
    }
   ],
   "source": [
    "Date = TyphoonTrack['Date2']\n",
    "Uwind"
   ]
  },
  {
   "cell_type": "code",
   "execution_count": 37,
   "metadata": {},
   "outputs": [
    {
     "data": {
      "text/plain": [
       "<class 'netCDF4._netCDF4.Variable'>\n",
       "float32 level(level)\n",
       "    units: millibar\n",
       "    actual_range: [1000.   10.]\n",
       "    long_name: Level\n",
       "    positive: down\n",
       "    GRIB_id: 100\n",
       "    GRIB_name: hPa\n",
       "    axis: Z\n",
       "unlimited dimensions: \n",
       "current shape = (17,)\n",
       "filling on, default _FillValue of 9.969209968386869e+36 used"
      ]
     },
     "execution_count": 37,
     "metadata": {},
     "output_type": "execute_result"
    }
   ],
   "source": [
    "Lev"
   ]
  },
  {
   "cell_type": "code",
   "execution_count": 46,
   "metadata": {},
   "outputs": [
    {
     "name": "stdout",
     "output_type": "stream",
     "text": [
      "('lat', <class 'netCDF4._netCDF4.Dimension'>: name = 'lat', size = 73\n",
      ")\n",
      "('lon', <class 'netCDF4._netCDF4.Dimension'>: name = 'lon', size = 144\n",
      ")\n",
      "('time', <class 'netCDF4._netCDF4.Dimension'> (unlimited): name = 'time', size = 0\n",
      ")\n",
      "('level', <class 'netCDF4._netCDF4.Dimension'>: name = 'level', size = 5\n",
      ")\n",
      "('TyphoonID', <class 'netCDF4._netCDF4.Dimension'>: name = 'TyphoonID', size = 1\n",
      ")\n",
      "<class 'netCDF4._netCDF4.Variable'>\n",
      "float32 uwnd(time, level, lat, lon, TyphoonID)\n",
      "    units: m/s\n",
      "    long_name: 4xDaily U-wind\n",
      "unlimited dimensions: time\n",
      "current shape = (46657, 5, 73, 144, 1)\n",
      "filling on, default _FillValue of 9.969209968386869e+36 used\n",
      "\n"
     ]
    },
    {
     "data": {
      "text/plain": [
       "<class 'netCDF4._netCDF4.Variable'>\n",
       "float32 air(time, level, lat, lon, TyphoonID)\n",
       "    units: K\n",
       "    long_name: temperature\n",
       "    unlimited_dimensions: time\n",
       "unlimited dimensions: time\n",
       "current shape = (46657, 5, 73, 144, 1)\n",
       "filling on, default _FillValue of 9.969209968386869e+36 used"
      ]
     },
     "execution_count": 46,
     "metadata": {},
     "output_type": "execute_result"
    }
   ],
   "source": [
    "try: ncfile.close() \n",
    "except: pass\n",
    "ncfile = nc.Dataset('F://Jupyter/Data/NewData/Typhoon1970_2018.nc',mode='w',format='NETCDF4_CLASSIC') \n",
    "\n",
    "lat_dim = ncfile.createDimension('lat', 73)    \n",
    "lon_dim = ncfile.createDimension('lon', 144)    \n",
    "time_dim = ncfile.createDimension('time', None)\n",
    "level_dim = ncfile.createDimension('level',5)\n",
    "TyphoonID_dim = ncfile.createDimension('TyphoonID',1) \n",
    "\n",
    "ncfile.title = 'Typhoon data from 1970-2018 base on NCEP-NCAR Reanalysis 1'\n",
    "for dim in ncfile.dimensions.items():\n",
    "    print(dim)\n",
    "try: ncfile.close() \n",
    "except: pass\n",
    "file = nc.Dataset('F://Jupyter/Data/NewData/Typhoon1970_2018.nc',mode='a',format='NETCDF4_CLASSIC') \n",
    "\n",
    "lat = file.createVariable('lat', np.float32, ('lat',))\n",
    "lat.units = 'degrees_north'\n",
    "lat.long_name = 'latitude'\n",
    "\n",
    "lon = file.createVariable('lon', np.float32, ('lon',))\n",
    "lon.units = 'degrees_east'\n",
    "lon.long_name = 'longitude'\n",
    "\n",
    "time = file.createVariable('time', np.float64, ('time',))\n",
    "time.units = 'hours since 1800-01-01'\n",
    "time.long_name = 'time'\n",
    "\n",
    "TyphoonID = file.createVariable('TyphoonID',np.int,('TyphoonID',))\n",
    "TyphoonID.long_name = 'TyphoonID'\n",
    "\n",
    "level = file.createVariable('level',np.float32,('level'))\n",
    "level.units = 'hPa' \n",
    "level.long_name = 'hgt'\n",
    "\n",
    "uwnd = file.createVariable('uwnd',np.float32,('time', 'level', 'lat', 'lon','TyphoonID'))\n",
    "uwnd.units = 'm/s' \n",
    "uwnd.long_name = '4xDaily U-wind'\n",
    "vwnd = file.createVariable('vwnd',np.float32,('time', 'level', 'lat', 'lon','TyphoonID'))\n",
    "vwnd.units = 'm/s' \n",
    "vwnd.long_name = '4xDaily V-wind'\n",
    "wwnd = file.createVariable('wwnd',np.float32,('time', 'level', 'lat', 'lon','TyphoonID'))\n",
    "wwnd.units = 'm/s' \n",
    "wwnd.long_name = '4xDaily W-wind'\n",
    "\n",
    "air = file.createVariable('air',np.float32,('time', 'level', 'lat', 'lon','TyphoonID'))\n",
    "air.units = 'K' \n",
    "air.long_name = 'temperature'\n",
    "air.unlimited_dimensions =('time')\n",
    "#hgt = file.createVariable('hgt',np.float32,('time', 'level', 'lat', 'lon','TyphoonID'))\n",
    "# lat = Lat\n",
    "# lon = Lon\n",
    "for i in range(len(TyphoonTrack)):\n",
    "    time[i] = TyphoonTrack['Date2'][i]\n",
    "l = [1000,850,500,200,20]\n",
    "for i in range(len(l)):\n",
    "    level[i] = l[i]\n",
    "print(uwnd)\n",
    "len(Uwind)\n",
    "air"
   ]
  },
  {
   "cell_type": "code",
   "execution_count": 51,
   "metadata": {},
   "outputs": [
    {
     "data": {
      "text/plain": [
       "masked_array(data=[--],\n",
       "             mask=[ True],\n",
       "       fill_value=9.96921e+36,\n",
       "            dtype=float32)"
      ]
     },
     "execution_count": 51,
     "metadata": {},
     "output_type": "execute_result"
    }
   ],
   "source": [
    "air[0,0,0,0]"
   ]
  },
  {
   "cell_type": "code",
   "execution_count": null,
   "metadata": {},
   "outputs": [],
   "source": []
  },
  {
   "cell_type": "code",
   "execution_count": null,
   "metadata": {},
   "outputs": [],
   "source": []
  },
  {
   "cell_type": "code",
   "execution_count": null,
   "metadata": {},
   "outputs": [],
   "source": []
  },
  {
   "cell_type": "code",
   "execution_count": null,
   "metadata": {},
   "outputs": [],
   "source": []
  },
  {
   "cell_type": "code",
   "execution_count": null,
   "metadata": {},
   "outputs": [],
   "source": []
  },
  {
   "cell_type": "code",
   "execution_count": null,
   "metadata": {},
   "outputs": [],
   "source": [
    "# from mpl_toolkits.basemap import Basemap,cm\n",
    "# import numpy as np\n",
    "# import matplotlib.pyplot as plt\n",
    "# import netCDF4 as nc\n",
    "# from datetime import datetime, timedelta\n",
    "# from netCDF4 import num2date, date2num\n",
    "# lon, lat = np.meshgrid(Lon,Lat)\n",
    "# latmin = -10\n",
    "# latmax = 70\n",
    "# lonmin = 90\n",
    "# lonmax = 210\n",
    "# for i in range(16):\n",
    "#     datetime = index+i\n",
    "#     m=Basemap(resolution='l',area_thresh=1000,projection='cyl',llcrnrlon=lonmin,urcrnrlon=lonmax,llcrnrlat=latmin,urcrnrlat=latmax)\n",
    "#     x, y = m(lon, lat)\n",
    "#     T1 = np.squeeze(Tem[datetime,1,:,:])\n",
    "#     u1= np.squeeze(Uwind[datetime,1,:,:])\n",
    "#     v1 = np.squeeze(Vwind[datetime,1,:,:])\n",
    "#     plt.figure(figsize =[32,18])\n",
    "#     fig = plt.figure(figsize = (16,9))\n",
    "#     ax = fig.add_axes([0.1,0.1,0.8,0.8])\n",
    "#     clevls_hgt=[-80,-60,-40,-20,0,20,40,60,80]\n",
    "#     #CS2 = m.contourf(x,y,T1,15)\n",
    "#     fig = plt.quiver(x,y,u1,v1,[u1,v1],angles=\"uv\",minshaft = 2,scale = 400,width = 0.0015,headwidth = 4)\n",
    "\n",
    "\n",
    "#     parallels = np.arange(-90.,90,30.)\n",
    "#     meridians = np.arange(0.,360.,60.)\n",
    "   \n",
    "#     m.drawcoastlines(linewidth=0.1)\n",
    "    \n",
    "#     DateTime = num2date(Time[datetime],units = Time.units)\n",
    "#     plt.title('tiange '+DateTime.strftime(\"%Y-%m-%d %H:%M:%S\"),size=20)\n",
    "#     plt.xlim(lonmin,lonmax)\n",
    "#     plt.ylim(latmin,latmax)\n",
    "#      # Add Grid Lines\n",
    "#     # 绘制经纬线\n",
    "#     m.drawparallels(np.arange(-90., 91., 20.), labels=[1,0,0,0], fontsize=20)\n",
    "#     m.drawmeridians(np.arange(-180., 181., 40.), labels=[0,0,0,1], fontsize=20)\n",
    "\n",
    "#     # Add Coastlines, States, and Country Boundaries\n",
    "#     m.drawcoastlines()\n",
    "#     m.drawstates()\n",
    "#     m.drawcountries()\n",
    "\n",
    "#     plt.show()\n",
    "    \n",
    "# from mpl_toolkits.basemap import Basemap,cm\n",
    "# import numpy as np\n",
    "# import matplotlib.pyplot as plt\n",
    "# import netCDF4 as nc\n",
    "# from datetime import datetime, timedelta\n",
    "# from netCDF4 import num2date, date2num\n",
    "# lon, lat = np.meshgrid(Lon,Lat)\n",
    "# latmin = -10\n",
    "# latmax = 70\n",
    "# lonmin = 90\n",
    "# lonmax = 210\n",
    "# for i in range(32):\n",
    "#     datetime = index+i\n",
    "#     m=Basemap(resolution='l',area_thresh=1000,projection='cyl',llcrnrlon=lonmin,urcrnrlon=lonmax,llcrnrlat=latmin,urcrnrlat=latmax)\n",
    "#     x, y = m(lon, lat)\n",
    "#     T1 = np.squeeze(Tem[datetime,1,:,:])\n",
    "#     u1= np.squeeze(Uwind[datetime,1,:,:])\n",
    "#     v1 = np.squeeze(Vwind[datetime,1,:,:])\n",
    "#     p1 = np.squeeze(Pre[datetime,1,:,:])\n",
    "    \n",
    "#     fig = plt.figure(figsize = (16,9))\n",
    "#     ax = fig.add_axes([0.1,0.1,0.8,0.8])\n",
    "#     clevls_hgt=[-80,-60,-40,-20,0,20,40,60,80]\n",
    "\n",
    "\n",
    "#     parallels = np.arange(-90.,90,30.)\n",
    "#     meridians = np.arange(0.,360.,60.)\n",
    "#     CS2 = m.contourf(x,y,p1,20)\n",
    "#     CS2 = m.contour(x,y,p1,15,linewidths = 0.5)\n",
    "#     #CS2.clabel(fontsize = 20,colors= 'k',fmt='%.2f')\n",
    "#     m.drawcoastlines(linewidth=0.1)\n",
    "#     fig = plt.quiver(x,y,u1,v1,angles=\"uv\",minshaft = 2,scale = 400,width = 0.0015,headwidth = 4)\n",
    "#     DateTime = num2date(Time[datetime],units = Time.units)\n",
    "#     plt.title('Temperature '+DateTime.strftime(\"%Y-%m-%d %H:%M:%S\"),size=20)\n",
    "#     plt.xlim(lonmin,lonmax)\n",
    "#     plt.ylim(latmin,latmax)\n",
    "#      # Add Grid Lines\n",
    "#     # 绘制经纬线\n",
    "#     m.drawparallels(np.arange(-90., 91., 20.), labels=[1,0,0,0], fontsize=20)\n",
    "#     m.drawmeridians(np.arange(-180., 181., 40.), labels=[0,0,0,1], fontsize=20)\n",
    "\n",
    "#     # Add Coastlines, States, and Country Boundaries\n",
    "#     m.drawcoastlines()\n",
    "#     m.drawstates()\n",
    "#     m.drawcountries()\n",
    "\n",
    "#     plt.show()"
   ]
  }
 ],
 "metadata": {
  "kernelspec": {
   "display_name": "Python 3",
   "language": "python",
   "name": "python3"
  },
  "language_info": {
   "codemirror_mode": {
    "name": "ipython",
    "version": 3
   },
   "file_extension": ".py",
   "mimetype": "text/x-python",
   "name": "python",
   "nbconvert_exporter": "python",
   "pygments_lexer": "ipython3",
   "version": "3.7.3"
  }
 },
 "nbformat": 4,
 "nbformat_minor": 2
}
