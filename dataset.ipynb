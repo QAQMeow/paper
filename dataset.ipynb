{
 "cells": [
  {
   "cell_type": "code",
   "execution_count": 3,
   "metadata": {},
   "outputs": [
    {
     "data": {
      "text/plain": [
       "1907688.0"
      ]
     },
     "execution_count": 3,
     "metadata": {},
     "output_type": "execute_result"
    }
   ],
   "source": [
    "import numpy as np\n",
    "import matplotlib.pyplot as plt\n",
    "import netCDF4 as nc\n",
    "from datetime import datetime, timedelta\n",
    "from netCDF4 import num2date, date2num\n",
    "TData = nc.MFDataset(\"F://Jupyter/Data/Temperature/*nc\")\n",
    "UData = nc.MFDataset(\"F://Jupyter/Data/u_wind/*nc\")\n",
    "VData = nc.MFDataset(\"F://Jupyter/Data/v_wind/*nc\")\n",
    "WData = nc.MFDataset(\"F://Jupyter/Data/w_wind/*nc\")\n",
    "PData = nc.MFDataset(\"F://Jupyter/Data/pre/*nc\")\n",
    "\n",
    "Tem = TData.variables['air']\n",
    "Time = TData.variables['time']\n",
    "Lon = TData.variables['lon']\n",
    "Lat = TData.variables['lat']\n",
    "Lev = TData.variables['level']\n",
    "Uwind = UData.variables['uwnd']\n",
    "Vwind = VData.variables['vwnd']\n",
    "Wwind = WData.variables['omega']\n",
    "Pre = PData.variables['hgt']\n",
    "\n",
    "t1 =datetime(2017,8,18,0,0)\n",
    "T1 = date2num(t1,units = Time.units)\n",
    "\n",
    "def FindIndex(A,N):\n",
    "    for i in range(len(A[:])):\n",
    "        if A[i] == N:\n",
    "            return i\n",
    "            break\n",
    "    index = FindIndex(Time[:],T1)\n",
    "    return index\n",
    "type(Time.units)\n",
    "T1"
   ]
  },
  {
   "cell_type": "code",
   "execution_count": 136,
   "metadata": {},
   "outputs": [
    {
     "name": "stdout",
     "output_type": "stream",
     "text": [
      "('lat', <class 'netCDF4._netCDF4.Dimension'>: name = 'lat', size = 73\n",
      ")\n",
      "('lon', <class 'netCDF4._netCDF4.Dimension'>: name = 'lon', size = 144\n",
      ")\n",
      "('time', <class 'netCDF4._netCDF4.Dimension'> (unlimited): name = 'time', size = 0\n",
      ")\n",
      "('Typhoon_No', <class 'netCDF4._netCDF4.Dimension'>: name = 'Typhoon_No', size = 1\n",
      ")\n"
     ]
    }
   ],
   "source": [
    "try: ncfile.close() \n",
    "except: pass\n",
    "ncfile = nc.Dataset('F://Jupyter/Data/NewData/Typhoon1970_2018.nc',mode='w',format='NETCDF4_CLASSIC') \n",
    "\n",
    "lat_dim = ncfile.createDimension('lat', 73)    \n",
    "lon_dim = ncfile.createDimension('lon', 144)    \n",
    "time_dim = ncfile.createDimension('time', None) \n",
    "Typhoon_No_dim = ncfile.createDimension('Typhoon_No',1) \n",
    "\n",
    "ncfile.title = 'Typhoon data from 1970-2018 base on NCEP-NCAR Reanalysis 1'\n",
    "for dim in ncfile.dimensions.items():\n",
    "    print(dim)\n",
    "try: ncfile.close() \n",
    "except: pass\n",
    "file = nc.Dataset('F://Jupyter/Data/NewData/Typhoon1970_2018.nc',mode='a',format='NETCDF4_CLASSIC') \n",
    "\n",
    "lat = file.createVariable('lat', np.float32, ('lat',))\n",
    "lat.units = 'degrees_north'\n",
    "lat.long_name = 'latitude'\n",
    "lon = file.createVariable('lon', np.float32, ('lon',))\n",
    "lon.units = 'degrees_east'\n",
    "lon.long_name = 'longitude'\n",
    "time = file.createVariable('time', np.float64, ('time',))\n",
    "time.units = 'hours since 1800-01-01'\n",
    "time.long_name = 'time'\n",
    "Typhoon_No = file.createVariable('Typhoon_No',np.int,('Typhoon_No',))\n",
    "Typhoon_No.long_name = 'Typhoon_No'\n",
    "\n",
    "\n",
    "lat = Lat\n",
    "lon = Lon\n"
   ]
  },
  {
   "cell_type": "code",
   "execution_count": 141,
   "metadata": {},
   "outputs": [
    {
     "data": {
      "text/plain": [
       "masked_array(data=[1000.,  925.,  850.,  700.,  600.,  500.,  400.,  300.,\n",
       "                    250.,  200.,  150.,  100.,   70.,   50.,   30.,   20.,\n",
       "                     10.],\n",
       "             mask=False,\n",
       "       fill_value=1e+20,\n",
       "            dtype=float32)"
      ]
     },
     "execution_count": 141,
     "metadata": {},
     "output_type": "execute_result"
    }
   ],
   "source": [
    "Lev[:]"
   ]
  },
  {
   "cell_type": "code",
   "execution_count": null,
   "metadata": {},
   "outputs": [],
   "source": []
  },
  {
   "cell_type": "code",
   "execution_count": null,
   "metadata": {},
   "outputs": [],
   "source": [
    "# from mpl_toolkits.basemap import Basemap,cm\n",
    "# import numpy as np\n",
    "# import matplotlib.pyplot as plt\n",
    "# import netCDF4 as nc\n",
    "# from datetime import datetime, timedelta\n",
    "# from netCDF4 import num2date, date2num\n",
    "# lon, lat = np.meshgrid(Lon,Lat)\n",
    "# latmin = -10\n",
    "# latmax = 70\n",
    "# lonmin = 90\n",
    "# lonmax = 210\n",
    "# for i in range(16):\n",
    "#     datetime = index+i\n",
    "#     m=Basemap(resolution='l',area_thresh=1000,projection='cyl',llcrnrlon=lonmin,urcrnrlon=lonmax,llcrnrlat=latmin,urcrnrlat=latmax)\n",
    "#     x, y = m(lon, lat)\n",
    "#     T1 = np.squeeze(Tem[datetime,1,:,:])\n",
    "#     u1= np.squeeze(Uwind[datetime,1,:,:])\n",
    "#     v1 = np.squeeze(Vwind[datetime,1,:,:])\n",
    "#     plt.figure(figsize =[32,18])\n",
    "#     fig = plt.figure(figsize = (16,9))\n",
    "#     ax = fig.add_axes([0.1,0.1,0.8,0.8])\n",
    "#     clevls_hgt=[-80,-60,-40,-20,0,20,40,60,80]\n",
    "#     #CS2 = m.contourf(x,y,T1,15)\n",
    "#     fig = plt.quiver(x,y,u1,v1,[u1,v1],angles=\"uv\",minshaft = 2,scale = 400,width = 0.0015,headwidth = 4)\n",
    "\n",
    "\n",
    "#     parallels = np.arange(-90.,90,30.)\n",
    "#     meridians = np.arange(0.,360.,60.)\n",
    "   \n",
    "#     m.drawcoastlines(linewidth=0.1)\n",
    "    \n",
    "#     DateTime = num2date(Time[datetime],units = Time.units)\n",
    "#     plt.title('tiange '+DateTime.strftime(\"%Y-%m-%d %H:%M:%S\"),size=20)\n",
    "#     plt.xlim(lonmin,lonmax)\n",
    "#     plt.ylim(latmin,latmax)\n",
    "#      # Add Grid Lines\n",
    "#     # 绘制经纬线\n",
    "#     m.drawparallels(np.arange(-90., 91., 20.), labels=[1,0,0,0], fontsize=20)\n",
    "#     m.drawmeridians(np.arange(-180., 181., 40.), labels=[0,0,0,1], fontsize=20)\n",
    "\n",
    "#     # Add Coastlines, States, and Country Boundaries\n",
    "#     m.drawcoastlines()\n",
    "#     m.drawstates()\n",
    "#     m.drawcountries()\n",
    "\n",
    "#     plt.show()\n",
    "    \n",
    "# from mpl_toolkits.basemap import Basemap,cm\n",
    "# import numpy as np\n",
    "# import matplotlib.pyplot as plt\n",
    "# import netCDF4 as nc\n",
    "# from datetime import datetime, timedelta\n",
    "# from netCDF4 import num2date, date2num\n",
    "# lon, lat = np.meshgrid(Lon,Lat)\n",
    "# latmin = -10\n",
    "# latmax = 70\n",
    "# lonmin = 90\n",
    "# lonmax = 210\n",
    "# for i in range(32):\n",
    "#     datetime = index+i\n",
    "#     m=Basemap(resolution='l',area_thresh=1000,projection='cyl',llcrnrlon=lonmin,urcrnrlon=lonmax,llcrnrlat=latmin,urcrnrlat=latmax)\n",
    "#     x, y = m(lon, lat)\n",
    "#     T1 = np.squeeze(Tem[datetime,1,:,:])\n",
    "#     u1= np.squeeze(Uwind[datetime,1,:,:])\n",
    "#     v1 = np.squeeze(Vwind[datetime,1,:,:])\n",
    "#     p1 = np.squeeze(Pre[datetime,1,:,:])\n",
    "    \n",
    "#     fig = plt.figure(figsize = (16,9))\n",
    "#     ax = fig.add_axes([0.1,0.1,0.8,0.8])\n",
    "#     clevls_hgt=[-80,-60,-40,-20,0,20,40,60,80]\n",
    "\n",
    "\n",
    "#     parallels = np.arange(-90.,90,30.)\n",
    "#     meridians = np.arange(0.,360.,60.)\n",
    "#     CS2 = m.contourf(x,y,p1,20)\n",
    "#     CS2 = m.contour(x,y,p1,15,linewidths = 0.5)\n",
    "#     #CS2.clabel(fontsize = 20,colors= 'k',fmt='%.2f')\n",
    "#     m.drawcoastlines(linewidth=0.1)\n",
    "#     fig = plt.quiver(x,y,u1,v1,angles=\"uv\",minshaft = 2,scale = 400,width = 0.0015,headwidth = 4)\n",
    "#     DateTime = num2date(Time[datetime],units = Time.units)\n",
    "#     plt.title('Temperature '+DateTime.strftime(\"%Y-%m-%d %H:%M:%S\"),size=20)\n",
    "#     plt.xlim(lonmin,lonmax)\n",
    "#     plt.ylim(latmin,latmax)\n",
    "#      # Add Grid Lines\n",
    "#     # 绘制经纬线\n",
    "#     m.drawparallels(np.arange(-90., 91., 20.), labels=[1,0,0,0], fontsize=20)\n",
    "#     m.drawmeridians(np.arange(-180., 181., 40.), labels=[0,0,0,1], fontsize=20)\n",
    "\n",
    "#     # Add Coastlines, States, and Country Boundaries\n",
    "#     m.drawcoastlines()\n",
    "#     m.drawstates()\n",
    "#     m.drawcountries()\n",
    "\n",
    "#     plt.show()"
   ]
  }
 ],
 "metadata": {
  "kernelspec": {
   "display_name": "Python 3",
   "language": "python",
   "name": "python3"
  },
  "language_info": {
   "codemirror_mode": {
    "name": "ipython",
    "version": 3
   },
   "file_extension": ".py",
   "mimetype": "text/x-python",
   "name": "python",
   "nbconvert_exporter": "python",
   "pygments_lexer": "ipython3",
   "version": "3.7.3"
  }
 },
 "nbformat": 4,
 "nbformat_minor": 2
}
