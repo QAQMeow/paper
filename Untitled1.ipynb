{
 "cells": [
  {
   "cell_type": "code",
   "execution_count": 55,
   "metadata": {},
   "outputs": [],
   "source": [
    "import numpy as np\n",
    "import pandas as pd\n",
    "import matplotlib.pyplot as plt\n",
    "import time\n",
    "import netCDF4 as nc\n",
    "from datetime import datetime, timedelta\n",
    "from netCDF4 import num2date, date2num\n",
    "\n",
    "file = open('F://Jupyter/Data/1970-2018bst.txt',mode = 'r')"
   ]
  },
  {
   "cell_type": "code",
   "execution_count": 80,
   "metadata": {},
   "outputs": [],
   "source": [
    "data = pd.read_csv('F://Jupyter/Data/1970-2018bst.csv')\n",
    "Time = pd.read_csv('F://Jupyter/Data/1970-2018date.csv')"
   ]
  },
  {
   "cell_type": "code",
   "execution_count": 57,
   "metadata": {
    "scrolled": true
   },
   "outputs": [
    {
     "data": {
      "text/html": [
       "<div>\n",
       "<style scoped>\n",
       "    .dataframe tbody tr th:only-of-type {\n",
       "        vertical-align: middle;\n",
       "    }\n",
       "\n",
       "    .dataframe tbody tr th {\n",
       "        vertical-align: top;\n",
       "    }\n",
       "\n",
       "    .dataframe thead th {\n",
       "        text-align: right;\n",
       "    }\n",
       "</style>\n",
       "<table border=\"1\" class=\"dataframe\">\n",
       "  <thead>\n",
       "    <tr style=\"text-align: right;\">\n",
       "      <th></th>\n",
       "      <th>date</th>\n",
       "      <th>ID</th>\n",
       "      <th>dateline</th>\n",
       "      <th>lat</th>\n",
       "      <th>lon</th>\n",
       "      <th>pre</th>\n",
       "      <th>name</th>\n",
       "    </tr>\n",
       "  </thead>\n",
       "  <tbody>\n",
       "    <tr>\n",
       "      <td>0</td>\n",
       "      <td>66666</td>\n",
       "      <td>7001</td>\n",
       "      <td>37</td>\n",
       "      <td>7001</td>\n",
       "      <td>0</td>\n",
       "      <td>6</td>\n",
       "      <td>NANCY</td>\n",
       "    </tr>\n",
       "    <tr>\n",
       "      <td>1</td>\n",
       "      <td>1970021900</td>\n",
       "      <td>2</td>\n",
       "      <td>2</td>\n",
       "      <td>70</td>\n",
       "      <td>1514</td>\n",
       "      <td>1006</td>\n",
       "      <td>NaN</td>\n",
       "    </tr>\n",
       "    <tr>\n",
       "      <td>2</td>\n",
       "      <td>1970021906</td>\n",
       "      <td>2</td>\n",
       "      <td>2</td>\n",
       "      <td>75</td>\n",
       "      <td>1510</td>\n",
       "      <td>1002</td>\n",
       "      <td>NaN</td>\n",
       "    </tr>\n",
       "    <tr>\n",
       "      <td>3</td>\n",
       "      <td>1970021912</td>\n",
       "      <td>2</td>\n",
       "      <td>2</td>\n",
       "      <td>80</td>\n",
       "      <td>1505</td>\n",
       "      <td>998</td>\n",
       "      <td>NaN</td>\n",
       "    </tr>\n",
       "    <tr>\n",
       "      <td>4</td>\n",
       "      <td>1970021918</td>\n",
       "      <td>2</td>\n",
       "      <td>2</td>\n",
       "      <td>84</td>\n",
       "      <td>1498</td>\n",
       "      <td>992</td>\n",
       "      <td>NaN</td>\n",
       "    </tr>\n",
       "    <tr>\n",
       "      <td>...</td>\n",
       "      <td>...</td>\n",
       "      <td>...</td>\n",
       "      <td>...</td>\n",
       "      <td>...</td>\n",
       "      <td>...</td>\n",
       "      <td>...</td>\n",
       "      <td>...</td>\n",
       "    </tr>\n",
       "    <tr>\n",
       "      <td>47919</td>\n",
       "      <td>2018112518</td>\n",
       "      <td>2</td>\n",
       "      <td>3</td>\n",
       "      <td>113</td>\n",
       "      <td>1066</td>\n",
       "      <td>1004</td>\n",
       "      <td>35</td>\n",
       "    </tr>\n",
       "    <tr>\n",
       "      <td>47920</td>\n",
       "      <td>2018112600</td>\n",
       "      <td>2</td>\n",
       "      <td>2</td>\n",
       "      <td>114</td>\n",
       "      <td>1059</td>\n",
       "      <td>1008</td>\n",
       "      <td>0</td>\n",
       "    </tr>\n",
       "    <tr>\n",
       "      <td>47921</td>\n",
       "      <td>2018112606</td>\n",
       "      <td>2</td>\n",
       "      <td>2</td>\n",
       "      <td>115</td>\n",
       "      <td>1054</td>\n",
       "      <td>1008</td>\n",
       "      <td>0</td>\n",
       "    </tr>\n",
       "    <tr>\n",
       "      <td>47922</td>\n",
       "      <td>2018112612</td>\n",
       "      <td>2</td>\n",
       "      <td>2</td>\n",
       "      <td>117</td>\n",
       "      <td>1049</td>\n",
       "      <td>1010</td>\n",
       "      <td>0</td>\n",
       "    </tr>\n",
       "    <tr>\n",
       "      <td>47923</td>\n",
       "      <td>2018112618</td>\n",
       "      <td>2</td>\n",
       "      <td>2</td>\n",
       "      <td>120</td>\n",
       "      <td>1040</td>\n",
       "      <td>1010</td>\n",
       "      <td>0</td>\n",
       "    </tr>\n",
       "  </tbody>\n",
       "</table>\n",
       "<p>47924 rows × 7 columns</p>\n",
       "</div>"
      ],
      "text/plain": [
       "             date    ID  dateline   lat   lon   pre   name\n",
       "0           66666  7001        37  7001     0     6  NANCY\n",
       "1      1970021900     2         2    70  1514  1006    NaN\n",
       "2      1970021906     2         2    75  1510  1002    NaN\n",
       "3      1970021912     2         2    80  1505   998    NaN\n",
       "4      1970021918     2         2    84  1498   992    NaN\n",
       "...           ...   ...       ...   ...   ...   ...    ...\n",
       "47919  2018112518     2         3   113  1066  1004     35\n",
       "47920  2018112600     2         2   114  1059  1008      0\n",
       "47921  2018112606     2         2   115  1054  1008      0\n",
       "47922  2018112612     2         2   117  1049  1010      0\n",
       "47923  2018112618     2         2   120  1040  1010      0\n",
       "\n",
       "[47924 rows x 7 columns]"
      ]
     },
     "execution_count": 57,
     "metadata": {},
     "output_type": "execute_result"
    }
   ],
   "source": [
    "#\n",
    "data"
   ]
  },
  {
   "cell_type": "code",
   "execution_count": 58,
   "metadata": {},
   "outputs": [
    {
     "data": {
      "text/plain": [
       "(47924, 7)"
      ]
     },
     "execution_count": 58,
     "metadata": {},
     "output_type": "execute_result"
    }
   ],
   "source": [
    "data.shape"
   ]
  },
  {
   "cell_type": "code",
   "execution_count": 62,
   "metadata": {},
   "outputs": [
    {
     "data": {
      "text/plain": [
       "1970021900"
      ]
     },
     "execution_count": 62,
     "metadata": {},
     "output_type": "execute_result"
    }
   ],
   "source": [
    "Date =data['date']\n",
    "Lat = data['lat']\n",
    "Lon = data['lon']\n",
    "Date[1]"
   ]
  },
  {
   "cell_type": "code",
   "execution_count": 91,
   "metadata": {},
   "outputs": [],
   "source": [
    "def func(D):\n",
    "    Date2 = []\n",
    "    for i in D:\n",
    "        if i != 66666:\n",
    "            timeStruct = time.strptime(str(i),\"%Y%m%d%H\")\n",
    "            strTime = time.strftime(\"%Y %m %d %H\", timeStruct)\n",
    "            t = strTime.split()\n",
    "            T = datetime(int(t[0]),int(t[1]),int(t[2]),int(t[3]))\n",
    "            unit = 'hours since 1800-01-01 00:00:0.0'\n",
    "            a = date2num(T,units = unit)\n",
    "            \n",
    "            Date2.append(strTime)\n",
    "    return Date2"
   ]
  },
  {
   "cell_type": "code",
   "execution_count": 92,
   "metadata": {
    "scrolled": false
   },
   "outputs": [],
   "source": [
    "date = func(Date)\n"
   ]
  },
  {
   "cell_type": "code",
   "execution_count": 99,
   "metadata": {},
   "outputs": [
    {
     "data": {
      "text/plain": [
       "0       37\n",
       "1       39\n",
       "2       16\n",
       "3       46\n",
       "4       21\n",
       "        ..\n",
       "1263    54\n",
       "1264     8\n",
       "1265    41\n",
       "1266    56\n",
       "1267    19\n",
       "Name: day, Length: 1268, dtype: int64"
      ]
     },
     "execution_count": 99,
     "metadata": {},
     "output_type": "execute_result"
    }
   ],
   "source": [
    "ID = Time['ID']\n",
    "days = Time['day']\n",
    "days"
   ]
  },
  {
   "cell_type": "code",
   "execution_count": 96,
   "metadata": {},
   "outputs": [
    {
     "data": {
      "text/plain": [
       "['1970 02 19 00',\n",
       " '1970 02 19 06',\n",
       " '1970 02 19 12',\n",
       " '1970 02 19 18',\n",
       " '1970 02 20 00',\n",
       " '1970 02 20 06',\n",
       " '1970 02 20 12',\n",
       " '1970 02 20 18',\n",
       " '1970 02 21 00',\n",
       " '1970 02 21 06',\n",
       " '1970 02 21 12',\n",
       " '1970 02 21 18',\n",
       " '1970 02 22 00',\n",
       " '1970 02 22 06',\n",
       " '1970 02 22 12',\n",
       " '1970 02 22 18',\n",
       " '1970 02 23 00',\n",
       " '1970 02 23 06',\n",
       " '1970 02 23 12',\n",
       " '1970 02 23 18',\n",
       " '1970 02 24 00',\n",
       " '1970 02 24 06',\n",
       " '1970 02 24 12',\n",
       " '1970 02 24 18',\n",
       " '1970 02 25 00',\n",
       " '1970 02 25 06',\n",
       " '1970 02 25 12',\n",
       " '1970 02 25 18',\n",
       " '1970 02 26 00',\n",
       " '1970 02 26 06',\n",
       " '1970 02 26 12',\n",
       " '1970 02 26 18',\n",
       " '1970 02 27 00',\n",
       " '1970 02 27 06',\n",
       " '1970 02 27 12',\n",
       " '1970 02 27 18',\n",
       " '1970 02 28 00']"
      ]
     },
     "execution_count": 96,
     "metadata": {},
     "output_type": "execute_result"
    }
   ],
   "source": [
    "date[0:37]"
   ]
  },
  {
   "cell_type": "code",
   "execution_count": null,
   "metadata": {},
   "outputs": [],
   "source": []
  }
 ],
 "metadata": {
  "kernelspec": {
   "display_name": "Python 3",
   "language": "python",
   "name": "python3"
  },
  "language_info": {
   "codemirror_mode": {
    "name": "ipython",
    "version": 3
   },
   "file_extension": ".py",
   "mimetype": "text/x-python",
   "name": "python",
   "nbconvert_exporter": "python",
   "pygments_lexer": "ipython3",
   "version": "3.7.3"
  }
 },
 "nbformat": 4,
 "nbformat_minor": 2
}
